{
  "nbformat": 4,
  "nbformat_minor": 0,
  "metadata": {
    "colab": {
      "provenance": [],
      "authorship_tag": "ABX9TyOU8ZNTUf3cVoiCKhJDgs2h",
      "include_colab_link": true
    },
    "kernelspec": {
      "name": "python3",
      "display_name": "Python 3"
    },
    "language_info": {
      "name": "python"
    }
  },
  "cells": [
    {
      "cell_type": "markdown",
      "metadata": {
        "id": "view-in-github",
        "colab_type": "text"
      },
      "source": [
        "<a href=\"https://colab.research.google.com/github/Jungseunggi/3ds-max-python/blob/main/basic.ipynb\" target=\"_parent\"><img src=\"https://colab.research.google.com/assets/colab-badge.svg\" alt=\"Open In Colab\"/></a>"
      ]
    },
    {
      "cell_type": "markdown",
      "source": [
        "#**1. Python & 3ds max**\n",
        "<sub>https://help.autodesk.com/view/3DSMAX/2020/ENU/?guid=__developer_about_the_3ds_max_python_api_html<sub>\n",
        "\n",
        "###1.1 작성된 문서 불러오기\n",
        "\n",
        "```\n",
        "python.ExecuteFile \"D:\\\\test.py\"\n",
        "```\n",
        "\n",
        "###1.2 max내에서 작성하기\n",
        "\n",
        "\n",
        "\n",
        "```\n",
        "python.execute\"\n",
        "print 'hello'\n",
        "\"\n",
        "여기서 중요한건 위에 시종점에 \" 표시함으로 중간에는 \" 사용하면 안됨\n",
        "```\n",
        "\n",
        "###1.3 language를 python으로 변경후 사용\n",
        "\n",
        "\n",
        "\n",
        "```\n",
        "print 'hello'\n",
        "```\n",
        "\n",
        "\n",
        "\n",
        "\n",
        "\n"
      ],
      "metadata": {
        "id": "MDR1AHGRZB8P"
      }
    }
  ]
}